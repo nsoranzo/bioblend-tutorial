{
 "cells": [
  {
   "cell_type": "markdown",
   "metadata": {},
   "source": [
    "Exercise 1 - Answers for BioBlend.objects\n",
    "=========================================\n",
    "\n",
    "**Goal**: Upload a file to a new history, import a workflow and run it on the uploaded dataset.\n",
    "\n",
    "1) Create a `GalaxyInstance` object."
   ]
  },
  {
   "cell_type": "code",
   "execution_count": 1,
   "metadata": {},
   "outputs": [],
   "source": [
    "import bioblend.galaxy.objects\n",
    "\n",
    "server = 'https://usegalaxy.eu/'\n",
    "api_key = ''\n",
    "gi = bioblend.galaxy.objects.GalaxyInstance(url=server, api_key=api_key)"
   ]
  },
  {
   "cell_type": "markdown",
   "metadata": {},
   "source": [
    "2) Create a new Galaxy history."
   ]
  },
  {
   "cell_type": "code",
   "execution_count": 3,
   "metadata": {},
   "outputs": [
    {
     "data": {
      "text/plain": [
       "History({'username_and_slug': None, 'state_ids': {'new': [], 'upload': [], 'queued': [], 'running': [], 'ok': [], 'empty': [], 'error': [], 'discarded': [], 'paused': [], 'setting_metadata': [], 'failed_metadata': []}, 'tags': [], 'size': 0, 'slug': None, 'contents_url': '/api/histories/61b5b574d102010a/contents', 'importable': False, 'annotation': None, 'purged': False, 'create_time': '2021-06-15T23:39:05.515426', 'url': '/api/histories/61b5b574d102010a', 'id': '61b5b574d102010a', 'published': False, 'state': 'new', 'deleted': False, 'model_class': 'History', 'genome_build': None, 'empty': True, 'name': 'New history', 'state_details': {'new': 0, 'upload': 0, 'queued': 0, 'running': 0, 'ok': 0, 'empty': 0, 'error': 0, 'discarded': 0, 'paused': 0, 'setting_metadata': 0, 'failed_metadata': 0}, 'user_id': 'bc81cbee8402ca0a', 'update_time': '2021-06-15T23:39:05.506383'})"
      ]
     },
     "execution_count": 3,
     "metadata": {},
     "output_type": "execute_result"
    }
   ],
   "source": [
    "new_hist = gi.histories.create(name='New history')\n",
    "new_hist"
   ]
  },
  {
   "cell_type": "markdown",
   "metadata": {},
   "source": [
    "3) **Upload** the local file \"test-data/1.txt\" to a new dataset in the created history using the `upload_file()` method of `History` objects."
   ]
  },
  {
   "cell_type": "code",
   "execution_count": 5,
   "metadata": {},
   "outputs": [
    {
     "data": {
      "text/plain": [
       "HistoryDatasetAssociation({'data_type': 'galaxy.datatypes.data.Data', 'dataset_id': '11ac94870d0bb33a0bc342a0089d745e', 'tags': [], 'history_content_type': 'dataset', 'display_types': [], 'type_id': 'dataset-11ac94870d0bb33a5b310e18c617fa16', 'display_apps': [], 'meta_files': [], 'validated_state_message': None, 'visible': True, 'file_size': 0, 'annotation': None, 'purged': False, 'url': '/api/histories/61b5b574d102010a/contents/11ac94870d0bb33a5b310e18c617fa16', 'create_time': '2021-06-15T23:39:12.909711', 'peek': None, 'accessible': True, 'permissions': {'manage': ['6aee96f19774f31b'], 'access': ['6aee96f19774f31b']}, 'id': '11ac94870d0bb33a5b310e18c617fa16', 'hda_ldda': 'hda', 'misc_info': None, 'file_ext': 'auto', 'download_url': '/api/histories/61b5b574d102010a/contents/11ac94870d0bb33a5b310e18c617fa16/display', 'visualizations': [{'name': 'editor', 'html': 'Editor', 'description': 'Manually edit text', 'logo': None, 'title': None, 'target': 'galaxy_main', 'embeddable': False, 'entry_point': {'type': 'mako', 'file': 'editor.mako', 'attr': {}}, 'settings': None, 'groups': None, 'specs': None, 'href': '/plugins/visualizations/editor/show'}], 'uuid': '8d604ba0-da14-4bbd-a740-32363f6a474f', 'validated_state': 'unknown', 'created_from_basename': None, 'resubmitted': False, 'state': 'queued', 'deleted': False, 'api_type': 'file', 'rerunnable': False, 'model_class': 'HistoryDatasetAssociation', 'hid': 1, 'genome_build': '?', 'type': 'file', 'creating_job': '11ac94870d0bb33a9d02cb5a111a4103', 'copied_from_ldda_id': None, 'name': '1.txt', 'extension': 'auto', 'history_id': '61b5b574d102010a', 'file_name': '/data/dnb03/galaxy_db/files/8/d/6/dataset_8d604ba0-da14-4bbd-a740-32363f6a474f.dat', 'misc_blurb': None, 'update_time': '2021-06-15T23:39:13.211369', 'metadata_dbkey': '?'})"
      ]
     },
     "execution_count": 5,
     "metadata": {},
     "output_type": "execute_result"
    }
   ],
   "source": [
    "hda = new_hist.upload_file(\"test-data/1.txt\")\n",
    "hda"
   ]
  },
  {
   "cell_type": "markdown",
   "metadata": {},
   "source": [
    "4) Please note that with BioBlend.objects there is no need to find the upload dataset, since `upload_file()` already returns a `HistoryDatasetAssociation` object."
   ]
  },
  {
   "cell_type": "markdown",
   "metadata": {},
   "source": [
    "5) **Import a workflow** from the local file \"test-data/convert_to_tab.ga\" using `workflows.import_new()` ."
   ]
  },
  {
   "cell_type": "code",
   "execution_count": 6,
   "metadata": {},
   "outputs": [
    {
     "data": {
      "text/plain": [
       "Workflow({'model_class': 'StoredWorkflow', 'id': 'ae8df34964e1064b', 'name': 'Convert to tab', 'create_time': '2021-06-15T23:39:44.378214', 'update_time': '2021-06-15T23:39:44.378228', 'published': False, 'deleted': False, 'hidden': False, 'tags': [], 'latest_workflow_uuid': '814e6545-db9e-4dc0-b9c4-1c0f9ed68910', 'url': '/api/workflows/ae8df34964e1064b', 'owner': 'nsoranzo', 'inputs': {'0': {'label': 'Input Dataset', 'value': '', 'uuid': '671bca4e-0b76-4a6f-a0a2-70219df56576'}}, 'annotation': None, 'license': None, 'creator': None, 'steps': {'0': Step({'id': '0', 'type': 'data_input', 'tool_id': None, 'tool_version': None, 'annotation': None, 'tool_inputs': {'optional': False}, 'input_steps': {}}), '1': Step({'id': '1', 'type': 'tool', 'tool_id': 'Convert characters1', 'tool_version': '1.0.0', 'annotation': None, 'tool_inputs': {'__page__': 0, '__rerun_remap_job_id__': None, 'condense': 'true', 'convert_from': 's', 'input': None, 'strip': 'true'}, 'input_steps': {'input': {'source_step': '0', 'step_output': 'output'}}})}, 'version': 0})"
      ]
     },
     "execution_count": 6,
     "metadata": {},
     "output_type": "execute_result"
    }
   ],
   "source": [
    "with open('test-data/convert_to_tab.ga', 'r') as f:\n",
    "    wf_string = f.read()\n",
    "wf = gi.workflows.import_new(wf_string)\n",
    "wf"
   ]
  },
  {
   "cell_type": "markdown",
   "metadata": {},
   "source": [
    "6) View the workflow inputs."
   ]
  },
  {
   "cell_type": "code",
   "execution_count": 12,
   "metadata": {},
   "outputs": [
    {
     "data": {
      "text/plain": [
       "{'0': {'label': 'Input Dataset',\n",
       "  'value': '',\n",
       "  'uuid': '671bca4e-0b76-4a6f-a0a2-70219df56576'}}"
      ]
     },
     "execution_count": 12,
     "metadata": {},
     "output_type": "execute_result"
    }
   ],
   "source": [
    "wf.inputs"
   ]
  },
  {
   "cell_type": "markdown",
   "metadata": {},
   "source": [
    "7) **Run** the imported workflow on the uploaded dataset **inside the same history** using the `invoke()` method of `Workflow` objects."
   ]
  },
  {
   "cell_type": "code",
   "execution_count": 14,
   "metadata": {},
   "outputs": [
    {
     "data": {
      "text/plain": [
       "Invocation({'model_class': 'WorkflowInvocation', 'id': '0ed68099a0e25902', 'update_time': '2021-06-15T23:53:42.021917', 'create_time': '2021-06-15T23:53:42.021904', 'workflow_id': '7ba41712152a23dc', 'history_id': '61b5b574d102010a', 'uuid': 'e9bf142a-ce34-11eb-8044-001e67d2ec02', 'state': 'new', 'stored_workflow_id': 'ae8df34964e1064b', 'steps': [], 'inputs': [{'id': '11ac94870d0bb33a5b310e18c617fa16', 'src': 'hda', 'label': '0', 'workflow_step_id': '0dc3955cc0736e05'}], 'input_step_parameters': {}, 'outputs': {}, 'output_collections': {}, 'output_values': {}})"
      ]
     },
     "execution_count": 14,
     "metadata": {},
     "output_type": "execute_result"
    }
   ],
   "source": [
    "inputs = {'0': {'id': hda.id, 'src': hda.SRC}}\n",
    "wf.invoke(inputs=inputs, history=new_hist)"
   ]
  },
  {
   "cell_type": "markdown",
   "metadata": {},
   "source": [
    "8) View the results on the Galaxy server with your web browser."
   ]
  }
 ],
 "metadata": {
  "kernelspec": {
   "display_name": "Python 3",
   "language": "python",
   "name": "python3"
  },
  "language_info": {
   "codemirror_mode": {
    "name": "ipython",
    "version": 3
   },
   "file_extension": ".py",
   "mimetype": "text/x-python",
   "name": "python",
   "nbconvert_exporter": "python",
   "pygments_lexer": "ipython3",
   "version": "3.7.6"
  },
  "toc": {
   "base_numbering": 1,
   "nav_menu": {},
   "number_sections": true,
   "sideBar": true,
   "skip_h1_title": false,
   "title_cell": "Table of Contents",
   "title_sidebar": "Contents",
   "toc_cell": false,
   "toc_position": {},
   "toc_section_display": true,
   "toc_window_display": false
  }
 },
 "nbformat": 4,
 "nbformat_minor": 1
}
