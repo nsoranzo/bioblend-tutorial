{
 "cells": [
  {
   "cell_type": "markdown",
   "metadata": {},
   "source": [
    "Exercise 1 - Answers for BioBlend\n",
    "=================================\n",
    "\n",
    "**Goal**: Upload a file to a new history, import a workflow and run it on the uploaded dataset.\n",
    "\n",
    "1) Create a `GalaxyInstance` object."
   ]
  },
  {
   "cell_type": "code",
   "execution_count": 1,
   "metadata": {},
   "outputs": [],
   "source": [
    "from pprint import pprint\n",
    "\n",
    "import bioblend.galaxy\n",
    "\n",
    "server = 'https://usegalaxy.eu/'\n",
    "api_key = ''\n",
    "gi = bioblend.galaxy.GalaxyInstance(url=server, key=api_key)"
   ]
  },
  {
   "cell_type": "markdown",
   "metadata": {},
   "source": [
    "2) Create a new Galaxy history."
   ]
  },
  {
   "cell_type": "code",
   "execution_count": 2,
   "metadata": {},
   "outputs": [
    {
     "name": "stdout",
     "output_type": "stream",
     "text": [
      "{'annotation': None,\n",
      " 'contents_url': '/api/histories/e271a7b8bccea52a/contents',\n",
      " 'create_time': '2020-07-17T04:25:03.259316',\n",
      " 'deleted': False,\n",
      " 'empty': True,\n",
      " 'genome_build': None,\n",
      " 'id': 'e271a7b8bccea52a',\n",
      " 'importable': False,\n",
      " 'model_class': 'History',\n",
      " 'name': 'New history',\n",
      " 'published': False,\n",
      " 'purged': False,\n",
      " 'size': 0,\n",
      " 'slug': None,\n",
      " 'state': 'new',\n",
      " 'state_details': {'discarded': 0,\n",
      "                   'empty': 0,\n",
      "                   'error': 0,\n",
      "                   'failed_metadata': 0,\n",
      "                   'new': 0,\n",
      "                   'ok': 0,\n",
      "                   'paused': 0,\n",
      "                   'queued': 0,\n",
      "                   'running': 0,\n",
      "                   'setting_metadata': 0,\n",
      "                   'upload': 0},\n",
      " 'state_ids': {'discarded': [],\n",
      "               'empty': [],\n",
      "               'error': [],\n",
      "               'failed_metadata': [],\n",
      "               'new': [],\n",
      "               'ok': [],\n",
      "               'paused': [],\n",
      "               'queued': [],\n",
      "               'running': [],\n",
      "               'setting_metadata': [],\n",
      "               'upload': []},\n",
      " 'tags': [],\n",
      " 'update_time': '2020-07-17T04:25:03.259333',\n",
      " 'url': '/api/histories/e271a7b8bccea52a',\n",
      " 'user_id': '1d2c05bb96add8ff',\n",
      " 'username_and_slug': None}\n"
     ]
    }
   ],
   "source": [
    "new_hist = gi.histories.create_history(name='New history')\n",
    "pprint(new_hist)"
   ]
  },
  {
   "cell_type": "markdown",
   "metadata": {},
   "source": [
    "3) **Upload** the local file \"test-data/1.txt\" to a new dataset in the created history using `tools.upload_file()` ."
   ]
  },
  {
   "cell_type": "code",
   "execution_count": 3,
   "metadata": {},
   "outputs": [
    {
     "name": "stdout",
     "output_type": "stream",
     "text": [
      "{'implicit_collections': [],\n",
      " 'jobs': [{'create_time': '2020-07-17T04:25:05.509737',\n",
      "           'exit_code': None,\n",
      "           'galaxy_version': '20.05',\n",
      "           'history_id': 'e271a7b8bccea52a',\n",
      "           'id': 'bbd44e69cb8906b5a6fa37dca1500cac',\n",
      "           'model_class': 'Job',\n",
      "           'state': 'new',\n",
      "           'tool_id': 'upload1',\n",
      "           'update_time': '2020-07-17T04:25:05.575750'}],\n",
      " 'output_collections': [],\n",
      " 'outputs': [{'create_time': '2020-07-17T04:25:05.329030',\n",
      "              'data_type': 'galaxy.datatypes.data.Data',\n",
      "              'deleted': False,\n",
      "              'file_ext': 'auto',\n",
      "              'file_size': 0,\n",
      "              'genome_build': '?',\n",
      "              'hda_ldda': 'hda',\n",
      "              'hid': 1,\n",
      "              'history_content_type': 'dataset',\n",
      "              'history_id': 'e271a7b8bccea52a',\n",
      "              'id': 'bbd44e69cb8906b5d5e5972574c432d6',\n",
      "              'metadata_dbkey': '?',\n",
      "              'misc_blurb': None,\n",
      "              'misc_info': None,\n",
      "              'model_class': 'HistoryDatasetAssociation',\n",
      "              'name': '1.txt',\n",
      "              'output_name': 'output0',\n",
      "              'peek': None,\n",
      "              'purged': False,\n",
      "              'state': 'queued',\n",
      "              'tags': [],\n",
      "              'update_time': '2020-07-17T04:25:05.467633',\n",
      "              'uuid': 'f0d1b2c7-711f-4c36-8313-2a48e3d2e813',\n",
      "              'validated_state': 'unknown',\n",
      "              'validated_state_message': None,\n",
      "              'visible': True}],\n",
      " 'produces_entry_points': False}\n"
     ]
    }
   ],
   "source": [
    "ret = gi.tools.upload_file(\"test-data/1.txt\", new_hist['id'])\n",
    "pprint(ret)"
   ]
  },
  {
   "cell_type": "markdown",
   "metadata": {},
   "source": [
    "4) Find the new uploaded dataset, either from the dict returned by `tools.upload_file()` or from the history contents."
   ]
  },
  {
   "cell_type": "code",
   "execution_count": 4,
   "metadata": {
    "scrolled": true
   },
   "outputs": [
    {
     "name": "stdout",
     "output_type": "stream",
     "text": [
      "{'create_time': '2020-07-17T04:25:05.329030',\n",
      " 'data_type': 'galaxy.datatypes.data.Data',\n",
      " 'deleted': False,\n",
      " 'file_ext': 'auto',\n",
      " 'file_size': 0,\n",
      " 'genome_build': '?',\n",
      " 'hda_ldda': 'hda',\n",
      " 'hid': 1,\n",
      " 'history_content_type': 'dataset',\n",
      " 'history_id': 'e271a7b8bccea52a',\n",
      " 'id': 'bbd44e69cb8906b5d5e5972574c432d6',\n",
      " 'metadata_dbkey': '?',\n",
      " 'misc_blurb': None,\n",
      " 'misc_info': None,\n",
      " 'model_class': 'HistoryDatasetAssociation',\n",
      " 'name': '1.txt',\n",
      " 'output_name': 'output0',\n",
      " 'peek': None,\n",
      " 'purged': False,\n",
      " 'state': 'queued',\n",
      " 'tags': [],\n",
      " 'update_time': '2020-07-17T04:25:05.467633',\n",
      " 'uuid': 'f0d1b2c7-711f-4c36-8313-2a48e3d2e813',\n",
      " 'validated_state': 'unknown',\n",
      " 'validated_state_message': None,\n",
      " 'visible': True}\n"
     ]
    }
   ],
   "source": [
    "hda = ret['outputs'][0]\n",
    "pprint(hda)"
   ]
  },
  {
   "cell_type": "markdown",
   "metadata": {},
   "source": [
    "5) **Import a workflow** from the local file \"test-data/convert_to_tab.ga\" using `workflows.import_workflow_from_local_path()` ."
   ]
  },
  {
   "cell_type": "code",
   "execution_count": 5,
   "metadata": {
    "scrolled": true
   },
   "outputs": [
    {
     "name": "stdout",
     "output_type": "stream",
     "text": [
      "{'annotations': [],\n",
      " 'create_time': '2020-07-17T04:25:31.761870',\n",
      " 'deleted': False,\n",
      " 'id': '3c211ce0994f752f',\n",
      " 'latest_workflow_uuid': '814e6545-db9e-4dc0-b9c4-1c0f9ed68910',\n",
      " 'model_class': 'StoredWorkflow',\n",
      " 'name': 'Convert to tab',\n",
      " 'number_of_steps': 2,\n",
      " 'owner': 'sloc',\n",
      " 'published': False,\n",
      " 'tags': [],\n",
      " 'update_time': '2020-07-17T04:25:31.761889',\n",
      " 'url': '/api/workflows/3c211ce0994f752f'}\n"
     ]
    }
   ],
   "source": [
    "wf = gi.workflows.import_workflow_from_local_path('test-data/convert_to_tab.ga')\n",
    "pprint(wf)"
   ]
  },
  {
   "cell_type": "markdown",
   "metadata": {},
   "source": [
    "6) View the details of the imported workflow using `workflows.show_workflow()` ."
   ]
  },
  {
   "cell_type": "code",
   "execution_count": 6,
   "metadata": {
    "scrolled": true
   },
   "outputs": [
    {
     "name": "stdout",
     "output_type": "stream",
     "text": [
      "{'annotation': None,\n",
      " 'create_time': '2020-07-17T04:25:31.761870',\n",
      " 'deleted': False,\n",
      " 'id': '3c211ce0994f752f',\n",
      " 'inputs': {'0': {'label': 'Input Dataset',\n",
      "                  'uuid': '671bca4e-0b76-4a6f-a0a2-70219df56576',\n",
      "                  'value': ''}},\n",
      " 'latest_workflow_uuid': '814e6545-db9e-4dc0-b9c4-1c0f9ed68910',\n",
      " 'model_class': 'StoredWorkflow',\n",
      " 'name': 'Convert to tab',\n",
      " 'owner': 'sloc',\n",
      " 'published': False,\n",
      " 'steps': {'0': {'annotation': None,\n",
      "                 'id': 0,\n",
      "                 'input_steps': {},\n",
      "                 'tool_id': None,\n",
      "                 'tool_inputs': {'optional': False},\n",
      "                 'tool_version': None,\n",
      "                 'type': 'data_input'},\n",
      "           '1': {'annotation': None,\n",
      "                 'id': 1,\n",
      "                 'input_steps': {'input': {'source_step': 0,\n",
      "                                           'step_output': 'output'}},\n",
      "                 'tool_id': 'Convert characters1',\n",
      "                 'tool_inputs': {'__page__': 0,\n",
      "                                 '__rerun_remap_job_id__': None,\n",
      "                                 'condense': 'true',\n",
      "                                 'convert_from': 's',\n",
      "                                 'input': None,\n",
      "                                 'strip': 'true'},\n",
      "                 'tool_version': '1.0.0',\n",
      "                 'type': 'tool'}},\n",
      " 'tags': [],\n",
      " 'update_time': '2020-07-17T04:25:31.761889',\n",
      " 'url': '/api/workflows/3c211ce0994f752f',\n",
      " 'version': 0}\n"
     ]
    }
   ],
   "source": [
    "wf = gi.workflows.show_workflow(wf['id'])\n",
    "pprint(wf)"
   ]
  },
  {
   "cell_type": "markdown",
   "metadata": {},
   "source": [
    "7) **Run** the imported workflow on the uploaded dataset **inside the same history** using `workflows.invoke_workflow()` ."
   ]
  },
  {
   "cell_type": "code",
   "execution_count": 7,
   "metadata": {
    "scrolled": false
   },
   "outputs": [
    {
     "name": "stdout",
     "output_type": "stream",
     "text": [
      "{'create_time': '2020-07-17T04:25:39.737083',\n",
      " 'history_id': 'e271a7b8bccea52a',\n",
      " 'id': '485d14fb52e0061d',\n",
      " 'model_class': 'WorkflowInvocation',\n",
      " 'state': 'new',\n",
      " 'update_time': '2020-07-17T04:25:39.737098',\n",
      " 'uuid': '91e340ce-c7e5-11ea-b4a9-005056ba55fb',\n",
      " 'workflow_id': '433b301945a92553'}\n"
     ]
    }
   ],
   "source": [
    "inputs = {0: {'id': hda['id'], 'src': 'hda'}}\n",
    "ret = gi.workflows.invoke_workflow(wf['id'], inputs=inputs, history_id=new_hist['id'])\n",
    "pprint(ret)"
   ]
  },
  {
   "cell_type": "markdown",
   "metadata": {},
   "source": [
    "8) Get the id of the output dataset from the workflow. You can get this from the history, or by getting the job id from `gi.workflows.show_invocation()` and then the output dataset id from the job using `gi.jobs.show_job()`. You'll need to wait until the workflow jobs have been scheduled."
   ]
  },
  {
   "cell_type": "code",
   "execution_count": 8,
   "metadata": {},
   "outputs": [
    {
     "name": "stdout",
     "output_type": "stream",
     "text": [
      "{'command_version': '',\n",
      " 'create_time': '2020-07-17T04:25:53.562134',\n",
      " 'exit_code': 0,\n",
      " 'galaxy_version': '20.05',\n",
      " 'history_id': 'e271a7b8bccea52a',\n",
      " 'id': 'bbd44e69cb8906b5e4d3e25446af7c40',\n",
      " 'inputs': {'input': {'id': 'bbd44e69cb8906b5d5e5972574c432d6',\n",
      "                      'src': 'hda',\n",
      "                      'uuid': 'f0d1b2c7-711f-4c36-8313-2a48e3d2e813'}},\n",
      " 'model_class': 'Job',\n",
      " 'outputs': {'out_file1': {'id': 'bbd44e69cb8906b5803d34e5d8b8c823',\n",
      "                           'src': 'hda',\n",
      "                           'uuid': '83e8f7b7-5cf8-410d-bee4-55ec067fa24e'}},\n",
      " 'params': {'__input_ext': '\"txt\"',\n",
      "            '__workflow_invocation_uuid__': '\"91e340cec7e511eab4a9005056ba55fb\"',\n",
      "            'chromInfo': '\"/cvmfs/data.galaxyproject.org/managed/len/ucsc/?.len\"',\n",
      "            'condense': '\"true\"',\n",
      "            'convert_from': '\"s\"',\n",
      "            'dbkey': '\"?\"',\n",
      "            'strip': '\"true\"'},\n",
      " 'state': 'ok',\n",
      " 'tool_id': 'Convert characters1',\n",
      " 'update_time': '2020-07-17T04:28:00.095472'}\n"
     ]
    }
   ],
   "source": [
    "invocation = gi.workflows.show_invocation(wf['id'],ret['id'])\n",
    "job_id = invocation['steps'][1]['job_id']\n",
    "pprint(gi.jobs.show_job(job_id))"
   ]
  },
  {
   "cell_type": "code",
   "execution_count": 9,
   "metadata": {},
   "outputs": [
    {
     "data": {
      "text/plain": [
       "'bbd44e69cb8906b5803d34e5d8b8c823'"
      ]
     },
     "execution_count": 9,
     "metadata": {},
     "output_type": "execute_result"
    }
   ],
   "source": [
    "hda2 = gi.jobs.show_job(job_id)['outputs']['out_file1']['id']\n",
    "hda2"
   ]
  },
  {
   "cell_type": "markdown",
   "metadata": {},
   "source": [
    "9) Create a `bioblend.galaxy.tools.ToolClient` object."
   ]
  },
  {
   "cell_type": "code",
   "execution_count": 10,
   "metadata": {},
   "outputs": [],
   "source": [
    "tc = bioblend.galaxy.tools.ToolClient(gi)"
   ]
  },
  {
   "cell_type": "markdown",
   "metadata": {},
   "source": [
    "10) Find the basic **Sort** tool, for sorting tabular data, by calling `get_tools()` and using the `name` parameter. Look for the correct tool in the list and find the tool id. "
   ]
  },
  {
   "cell_type": "code",
   "execution_count": 11,
   "metadata": {},
   "outputs": [
    {
     "name": "stdout",
     "output_type": "stream",
     "text": [
      "[{'description': 'data in ascending or descending order',\n",
      "  'edam_operations': [],\n",
      "  'edam_topics': [],\n",
      "  'form_style': 'regular',\n",
      "  'hidden': '',\n",
      "  'id': 'sort1',\n",
      "  'is_workflow_compatible': True,\n",
      "  'labels': [],\n",
      "  'link': '/tool_runner?tool_id=sort1',\n",
      "  'min_width': -1,\n",
      "  'model_class': 'Tool',\n",
      "  'name': 'Sort',\n",
      "  'panel_section_id': 'filter_and_sort',\n",
      "  'panel_section_name': 'Filter and Sort',\n",
      "  'target': 'galaxy_main',\n",
      "  'version': '1.1.0',\n",
      "  'xrefs': []},\n",
      " {'description': 'BAM dataset',\n",
      "  'edam_operations': [],\n",
      "  'edam_topics': [],\n",
      "  'form_style': 'regular',\n",
      "  'hidden': '',\n",
      "  'id': 'toolshed.g2.bx.psu.edu/repos/devteam/samtools_sort/samtools_sort/2.0',\n",
      "  'is_workflow_compatible': True,\n",
      "  'labels': [],\n",
      "  'link': '/tool_runner?tool_id=toolshed.g2.bx.psu.edu%2Frepos%2Fdevteam%2Fsamtools_sort%2Fsamtools_sort%2F2.0',\n",
      "  'min_width': -1,\n",
      "  'model_class': 'Tool',\n",
      "  'name': 'Sort',\n",
      "  'panel_section_id': 'sam_bam',\n",
      "  'panel_section_name': 'SAM/BAM',\n",
      "  'target': 'galaxy_main',\n",
      "  'tool_shed_repository': {'changeset_revision': 'a430da4f04cd',\n",
      "                           'name': 'samtools_sort',\n",
      "                           'owner': 'devteam',\n",
      "                           'tool_shed': 'toolshed.g2.bx.psu.edu'},\n",
      "  'version': '2.0',\n",
      "  'xrefs': []},\n",
      " {'description': 'data in ascending or descending order',\n",
      "  'edam_operations': [],\n",
      "  'edam_topics': [],\n",
      "  'form_style': 'regular',\n",
      "  'hidden': '',\n",
      "  'id': 'toolshed.g2.bx.psu.edu/repos/bgruening/text_processing/tp_sort_header_tool/1.0.0',\n",
      "  'is_workflow_compatible': True,\n",
      "  'labels': [],\n",
      "  'link': '/tool_runner?tool_id=toolshed.g2.bx.psu.edu%2Frepos%2Fbgruening%2Ftext_processing%2Ftp_sort_header_tool%2F1.0.0',\n",
      "  'min_width': -1,\n",
      "  'model_class': 'Tool',\n",
      "  'name': 'Sort',\n",
      "  'panel_section_id': 'text_manipulation',\n",
      "  'panel_section_name': 'Text Manipulation',\n",
      "  'target': 'galaxy_main',\n",
      "  'tool_shed_repository': {'changeset_revision': '288462ec2630',\n",
      "                           'name': 'text_processing',\n",
      "                           'owner': 'bgruening',\n",
      "                           'tool_shed': 'toolshed.g2.bx.psu.edu'},\n",
      "  'version': '1.0.0',\n",
      "  'xrefs': []},\n",
      " {'description': 'order of storing aligned sequences',\n",
      "  'edam_operations': [],\n",
      "  'edam_topics': [],\n",
      "  'form_style': 'regular',\n",
      "  'hidden': '',\n",
      "  'id': 'toolshed.g2.bx.psu.edu/repos/devteam/samtools_sort/samtools_sort/2.0.1',\n",
      "  'is_workflow_compatible': True,\n",
      "  'labels': [],\n",
      "  'link': '/tool_runner?tool_id=toolshed.g2.bx.psu.edu%2Frepos%2Fdevteam%2Fsamtools_sort%2Fsamtools_sort%2F2.0.1',\n",
      "  'min_width': -1,\n",
      "  'model_class': 'Tool',\n",
      "  'name': 'Sort',\n",
      "  'panel_section_id': 'sam_bam',\n",
      "  'panel_section_name': 'SAM/BAM',\n",
      "  'target': 'galaxy_main',\n",
      "  'tool_shed_repository': {'changeset_revision': 'cab3f8d35989',\n",
      "                           'name': 'samtools_sort',\n",
      "                           'owner': 'devteam',\n",
      "                           'tool_shed': 'toolshed.g2.bx.psu.edu'},\n",
      "  'version': '2.0.1',\n",
      "  'xrefs': []},\n",
      " {'description': 'data in ascending or descending order',\n",
      "  'edam_operations': [],\n",
      "  'edam_topics': [],\n",
      "  'form_style': 'regular',\n",
      "  'hidden': '',\n",
      "  'id': 'toolshed.g2.bx.psu.edu/repos/bgruening/text_processing/tp_sort_header_tool/1.1.0',\n",
      "  'is_workflow_compatible': True,\n",
      "  'labels': [],\n",
      "  'link': '/tool_runner?tool_id=toolshed.g2.bx.psu.edu%2Frepos%2Fbgruening%2Ftext_processing%2Ftp_sort_header_tool%2F1.1.0',\n",
      "  'min_width': -1,\n",
      "  'model_class': 'Tool',\n",
      "  'name': 'Sort',\n",
      "  'panel_section_id': 'text_manipulation',\n",
      "  'panel_section_name': 'Text Manipulation',\n",
      "  'target': 'galaxy_main',\n",
      "  'tool_shed_repository': {'changeset_revision': 'e39fceb6ab85',\n",
      "                           'name': 'text_processing',\n",
      "                           'owner': 'bgruening',\n",
      "                           'tool_shed': 'toolshed.g2.bx.psu.edu'},\n",
      "  'version': '1.1.0',\n",
      "  'xrefs': []},\n",
      " {'description': 'data in ascending or descending order',\n",
      "  'edam_operations': [],\n",
      "  'edam_topics': [],\n",
      "  'form_style': 'regular',\n",
      "  'hidden': '',\n",
      "  'id': 'toolshed.g2.bx.psu.edu/repos/bgruening/text_processing/tp_sort_header_tool/1.1.1',\n",
      "  'is_workflow_compatible': True,\n",
      "  'labels': [],\n",
      "  'link': '/tool_runner?tool_id=toolshed.g2.bx.psu.edu%2Frepos%2Fbgruening%2Ftext_processing%2Ftp_sort_header_tool%2F1.1.1',\n",
      "  'min_width': -1,\n",
      "  'model_class': 'Tool',\n",
      "  'name': 'Sort',\n",
      "  'panel_section_id': 'text_manipulation',\n",
      "  'panel_section_name': 'Text Manipulation',\n",
      "  'target': 'galaxy_main',\n",
      "  'tool_shed_repository': {'changeset_revision': '74a8bef53a00',\n",
      "                           'name': 'text_processing',\n",
      "                           'owner': 'bgruening',\n",
      "                           'tool_shed': 'toolshed.g2.bx.psu.edu'},\n",
      "  'version': '1.1.1',\n",
      "  'xrefs': []}]\n"
     ]
    }
   ],
   "source": [
    "pprint(tc.get_tools(name='Sort'))"
   ]
  },
  {
   "cell_type": "code",
   "execution_count": 12,
   "metadata": {},
   "outputs": [],
   "source": [
    "sort_tool = 'sort1'"
   ]
  },
  {
   "cell_type": "markdown",
   "metadata": {},
   "source": [
    "11) Check the tool inputs by calling `show_tool()` with `io_details=True`. It might be useful to open Galaxy and compare the inputs you see here to the tool inputs in the Galaxy UI."
   ]
  },
  {
   "cell_type": "code",
   "execution_count": 13,
   "metadata": {
    "scrolled": true
   },
   "outputs": [
    {
     "name": "stdout",
     "output_type": "stream",
     "text": [
      "{'description': 'data in ascending or descending order',\n",
      " 'edam_operations': [],\n",
      " 'edam_topics': [],\n",
      " 'form_style': 'regular',\n",
      " 'hidden': '',\n",
      " 'id': 'sort1',\n",
      " 'inputs': [{'argument': None,\n",
      "             'edam': {'edam_data': ['data_0006'],\n",
      "                      'edam_formats': ['format_3475']},\n",
      "             'extensions': ['tabular'],\n",
      "             'help': '',\n",
      "             'hidden': False,\n",
      "             'is_dynamic': False,\n",
      "             'label': 'Sort Dataset',\n",
      "             'model_class': 'DataToolParameter',\n",
      "             'multiple': False,\n",
      "             'name': 'input',\n",
      "             'optional': False,\n",
      "             'options': {'hda': [], 'hdca': []},\n",
      "             'refresh_on_change': True,\n",
      "             'type': 'data',\n",
      "             'value': None},\n",
      "            {'argument': None,\n",
      "             'data_ref': 'input',\n",
      "             'display': None,\n",
      "             'help': '',\n",
      "             'hidden': False,\n",
      "             'is_dynamic': True,\n",
      "             'label': 'on column',\n",
      "             'model_class': 'ColumnListParameter',\n",
      "             'multiple': False,\n",
      "             'name': 'column',\n",
      "             'numerical': False,\n",
      "             'optional': True,\n",
      "             'options': [],\n",
      "             'refresh_on_change': False,\n",
      "             'textable': False,\n",
      "             'type': 'data_column',\n",
      "             'value': None},\n",
      "            {'argument': None,\n",
      "             'display': None,\n",
      "             'help': '',\n",
      "             'hidden': False,\n",
      "             'is_dynamic': False,\n",
      "             'label': 'with flavor',\n",
      "             'model_class': 'SelectToolParameter',\n",
      "             'multiple': False,\n",
      "             'name': 'style',\n",
      "             'optional': False,\n",
      "             'options': [['Numerical sort', 'num', False],\n",
      "                         ['General numeric sort', 'gennum', False],\n",
      "                         ['Alphabetical sort', 'alpha', False]],\n",
      "             'refresh_on_change': False,\n",
      "             'textable': False,\n",
      "             'type': 'select',\n",
      "             'value': 'num'},\n",
      "            {'argument': None,\n",
      "             'display': None,\n",
      "             'help': '',\n",
      "             'hidden': False,\n",
      "             'is_dynamic': False,\n",
      "             'label': 'everything in',\n",
      "             'model_class': 'SelectToolParameter',\n",
      "             'multiple': False,\n",
      "             'name': 'order',\n",
      "             'optional': False,\n",
      "             'options': [['Descending order', 'DESC', False],\n",
      "                         ['Ascending order', 'ASC', False]],\n",
      "             'refresh_on_change': False,\n",
      "             'textable': False,\n",
      "             'type': 'select',\n",
      "             'value': 'DESC'},\n",
      "            {'default': 0,\n",
      "             'help': None,\n",
      "             'inputs': [{'argument': None,\n",
      "                         'data_ref': 'input',\n",
      "                         'display': None,\n",
      "                         'help': '',\n",
      "                         'hidden': False,\n",
      "                         'is_dynamic': True,\n",
      "                         'label': 'on column',\n",
      "                         'model_class': 'ColumnListParameter',\n",
      "                         'multiple': False,\n",
      "                         'name': 'other_column',\n",
      "                         'numerical': False,\n",
      "                         'optional': True,\n",
      "                         'options': [],\n",
      "                         'refresh_on_change': False,\n",
      "                         'textable': False,\n",
      "                         'type': 'data_column',\n",
      "                         'value': None},\n",
      "                        {'argument': None,\n",
      "                         'display': None,\n",
      "                         'help': '',\n",
      "                         'hidden': False,\n",
      "                         'is_dynamic': False,\n",
      "                         'label': 'with flavor',\n",
      "                         'model_class': 'SelectToolParameter',\n",
      "                         'multiple': False,\n",
      "                         'name': 'other_style',\n",
      "                         'optional': False,\n",
      "                         'options': [['Numerical sort', 'num', False],\n",
      "                                     ['General numeric sort', 'gennum', False],\n",
      "                                     ['Alphabetical sort', 'alpha', False]],\n",
      "                         'refresh_on_change': False,\n",
      "                         'textable': False,\n",
      "                         'type': 'select',\n",
      "                         'value': 'num'},\n",
      "                        {'argument': None,\n",
      "                         'display': None,\n",
      "                         'help': '',\n",
      "                         'hidden': False,\n",
      "                         'is_dynamic': False,\n",
      "                         'label': 'everything in',\n",
      "                         'model_class': 'SelectToolParameter',\n",
      "                         'multiple': False,\n",
      "                         'name': 'other_order',\n",
      "                         'optional': False,\n",
      "                         'options': [['Descending order', 'DESC', False],\n",
      "                                     ['Ascending order', 'ASC', False]],\n",
      "                         'refresh_on_change': False,\n",
      "                         'textable': False,\n",
      "                         'type': 'select',\n",
      "                         'value': 'DESC'}],\n",
      "             'max': '__Infinity__',\n",
      "             'min': 0,\n",
      "             'model_class': 'Repeat',\n",
      "             'name': 'column_set',\n",
      "             'title': 'Column selection',\n",
      "             'type': 'repeat'},\n",
      "            {'area': False,\n",
      "             'argument': None,\n",
      "             'datalist': [],\n",
      "             'help': '# characters are already considered as comments and kept',\n",
      "             'hidden': False,\n",
      "             'is_dynamic': False,\n",
      "             'label': 'Number of header lines to skip',\n",
      "             'max': None,\n",
      "             'min': None,\n",
      "             'model_class': 'IntegerToolParameter',\n",
      "             'name': 'header_lines',\n",
      "             'optional': False,\n",
      "             'refresh_on_change': False,\n",
      "             'type': 'integer',\n",
      "             'value': '0'}],\n",
      " 'is_workflow_compatible': True,\n",
      " 'labels': [],\n",
      " 'model_class': 'Tool',\n",
      " 'name': 'Sort',\n",
      " 'outputs': [{'count': 1,\n",
      "              'default_identifier_source': 'None',\n",
      "              'discover_datasets': [{'assign_primary_output': False,\n",
      "                                     'dbkey': '__input__',\n",
      "                                     'directory': None,\n",
      "                                     'discover_via': 'pattern',\n",
      "                                     'format': None,\n",
      "                                     'pattern': 'primary_DATASET_ID_(?P<designation>[^_]+)_(?P<visible>[^_]+)_(?P<ext>[^_]+)(_(?P<dbkey>[^_]+))?',\n",
      "                                     'recurse': False,\n",
      "                                     'sort_comp': 'lexical',\n",
      "                                     'sort_key': 'filename',\n",
      "                                     'visible': False}],\n",
      "              'edam_data': 'data_0006',\n",
      "              'edam_format': 'format_1915',\n",
      "              'format': 'data',\n",
      "              'format_source': 'input',\n",
      "              'from_work_dir': None,\n",
      "              'hidden': False,\n",
      "              'label': '',\n",
      "              'metadata_source': 'input',\n",
      "              'model_class': 'ToolOutput',\n",
      "              'name': 'out_file1',\n",
      "              'output_type': 'data',\n",
      "              'parent': None}],\n",
      " 'panel_section_id': 'filter_and_sort',\n",
      " 'panel_section_name': 'Filter and Sort',\n",
      " 'version': '1.1.0',\n",
      " 'xrefs': []}\n"
     ]
    }
   ],
   "source": [
    "tool_details = tc.show_tool(sort_tool, io_details=True)\n",
    "pprint(tool_details)"
   ]
  },
  {
   "cell_type": "markdown",
   "metadata": {},
   "source": [
    "11) Run the sort tool to sort the tabular dataset so that the first column is in descending numerical order, by calling `run_tool()`. This requires the history id, the tool id, and a `tool_inputs` parameter which should be a dict mapping tool input names to tool input values. "
   ]
  },
  {
   "cell_type": "code",
   "execution_count": 14,
   "metadata": {},
   "outputs": [
    {
     "data": {
      "text/plain": [
       "{'outputs': [{'id': 'bbd44e69cb8906b54e297c09ca4f749e',\n",
       "   'hda_ldda': 'hda',\n",
       "   'uuid': 'c10ba6de-5b5b-40c9-bc4b-c4758b71dc5c',\n",
       "   'hid': 3,\n",
       "   'file_ext': 'tabular',\n",
       "   'peek': None,\n",
       "   'model_class': 'HistoryDatasetAssociation',\n",
       "   'name': 'Sort on data 2',\n",
       "   'deleted': False,\n",
       "   'purged': False,\n",
       "   'visible': True,\n",
       "   'state': 'new',\n",
       "   'history_content_type': 'dataset',\n",
       "   'file_size': 0,\n",
       "   'create_time': '2020-07-17T04:30:58.621547',\n",
       "   'update_time': '2020-07-17T04:30:58.689511',\n",
       "   'data_type': 'galaxy.datatypes.tabular.Tabular',\n",
       "   'genome_build': '?',\n",
       "   'validated_state': 'unknown',\n",
       "   'validated_state_message': None,\n",
       "   'misc_info': None,\n",
       "   'misc_blurb': 'queued',\n",
       "   'tags': [],\n",
       "   'history_id': 'e271a7b8bccea52a',\n",
       "   'metadata_dbkey': '?',\n",
       "   'metadata_data_lines': 4,\n",
       "   'metadata_comment_lines': None,\n",
       "   'metadata_columns': 2,\n",
       "   'metadata_column_types': ['int', 'str'],\n",
       "   'metadata_column_names': None,\n",
       "   'metadata_delimiter': '\\t',\n",
       "   'output_name': 'out_file1'}],\n",
       " 'output_collections': [],\n",
       " 'jobs': [{'model_class': 'Job',\n",
       "   'id': 'bbd44e69cb8906b56330962191ea41f8',\n",
       "   'state': 'new',\n",
       "   'exit_code': None,\n",
       "   'update_time': '2020-07-17T04:30:58.666610',\n",
       "   'create_time': '2020-07-17T04:30:58.666603',\n",
       "   'galaxy_version': '20.05',\n",
       "   'tool_id': 'sort1',\n",
       "   'history_id': 'e271a7b8bccea52a'}],\n",
       " 'implicit_collections': [],\n",
       " 'produces_entry_points': False}"
      ]
     },
     "execution_count": 14,
     "metadata": {},
     "output_type": "execute_result"
    }
   ],
   "source": [
    "tc.run_tool(new_hist['id'], sort_tool,\n",
    "           {'input': {'id': hda2, 'src': 'hda'},\n",
    "            'column': \"c1\",\n",
    "            'order': 'DESC'})"
   ]
  },
  {
   "cell_type": "markdown",
   "metadata": {},
   "source": [
    "12) View the results on the Galaxy server with your web browser."
   ]
  }
 ],
 "metadata": {
  "kernelspec": {
   "display_name": "Python 3",
   "language": "python",
   "name": "python3"
  },
  "language_info": {
   "codemirror_mode": {
    "name": "ipython",
    "version": 3
   },
   "file_extension": ".py",
   "mimetype": "text/x-python",
   "name": "python",
   "nbconvert_exporter": "python",
   "pygments_lexer": "ipython3",
   "version": "3.7.6"
  },
  "toc": {
   "base_numbering": 1,
   "nav_menu": {},
   "number_sections": true,
   "sideBar": true,
   "skip_h1_title": false,
   "title_cell": "Table of Contents",
   "title_sidebar": "Contents",
   "toc_cell": false,
   "toc_position": {},
   "toc_section_display": true,
   "toc_window_display": false
  }
 },
 "nbformat": 4,
 "nbformat_minor": 2
}
