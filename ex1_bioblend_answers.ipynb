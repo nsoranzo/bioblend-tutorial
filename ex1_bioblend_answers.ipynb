{
 "cells": [
  {
   "cell_type": "markdown",
   "metadata": {},
   "source": [
    "Exercise 1 - Answers for BioBlend\n",
    "=================================\n",
    "\n",
    "**Goal**: Upload a file to a new history, import a workflow and run it on the uploaded dataset.\n",
    "\n",
    "1) Create a `GalaxyInstance` object."
   ]
  },
  {
   "cell_type": "code",
   "execution_count": 1,
   "metadata": {},
   "outputs": [],
   "source": [
    "from pprint import pprint\n",
    "\n",
    "import bioblend.galaxy\n",
    "\n",
    "server = 'https://usegalaxy.eu/'\n",
    "api_key = ''\n",
    "gi = bioblend.galaxy.GalaxyInstance(url=server, key=api_key)"
   ]
  },
  {
   "cell_type": "markdown",
   "metadata": {},
   "source": [
    "2) Create a new Galaxy history."
   ]
  },
  {
   "cell_type": "code",
   "execution_count": 2,
   "metadata": {},
   "outputs": [
    {
     "name": "stdout",
     "output_type": "stream",
     "text": [
      "{'annotation': None,\n",
      " 'contents_url': '/api/histories/94d2b47995e95c97/contents',\n",
      " 'create_time': '2020-07-15T18:42:55.853682',\n",
      " 'deleted': False,\n",
      " 'empty': True,\n",
      " 'genome_build': None,\n",
      " 'id': '94d2b47995e95c97',\n",
      " 'importable': False,\n",
      " 'model_class': 'History',\n",
      " 'name': 'New history',\n",
      " 'published': False,\n",
      " 'purged': False,\n",
      " 'size': 0,\n",
      " 'slug': None,\n",
      " 'state': 'new',\n",
      " 'state_details': {'discarded': 0,\n",
      "                   'empty': 0,\n",
      "                   'error': 0,\n",
      "                   'failed_metadata': 0,\n",
      "                   'new': 0,\n",
      "                   'ok': 0,\n",
      "                   'paused': 0,\n",
      "                   'queued': 0,\n",
      "                   'running': 0,\n",
      "                   'setting_metadata': 0,\n",
      "                   'upload': 0},\n",
      " 'state_ids': {'discarded': [],\n",
      "               'empty': [],\n",
      "               'error': [],\n",
      "               'failed_metadata': [],\n",
      "               'new': [],\n",
      "               'ok': [],\n",
      "               'paused': [],\n",
      "               'queued': [],\n",
      "               'running': [],\n",
      "               'setting_metadata': [],\n",
      "               'upload': []},\n",
      " 'tags': [],\n",
      " 'update_time': '2020-07-15T18:42:55.853696',\n",
      " 'url': '/api/histories/94d2b47995e95c97',\n",
      " 'user_id': '1c510fef372551ec',\n",
      " 'username_and_slug': None}\n"
     ]
    }
   ],
   "source": [
    "new_hist = gi.histories.create_history(name='New history')\n",
    "pprint(new_hist)"
   ]
  },
  {
   "cell_type": "markdown",
   "metadata": {},
   "source": [
    "3) **Upload** the local file \"test-data/1.txt\" to a new dataset in the created history using `tools.upload_file()` ."
   ]
  },
  {
   "cell_type": "code",
   "execution_count": 3,
   "metadata": {},
   "outputs": [
    {
     "name": "stdout",
     "output_type": "stream",
     "text": [
      "{'implicit_collections': [],\n",
      " 'jobs': [{'create_time': '2020-07-15T18:43:05.646332',\n",
      "           'exit_code': None,\n",
      "           'galaxy_version': '20.05',\n",
      "           'history_id': '94d2b47995e95c97',\n",
      "           'id': 'bbd44e69cb8906b58b1f315b61c3282b',\n",
      "           'model_class': 'Job',\n",
      "           'state': 'new',\n",
      "           'tool_id': 'upload1',\n",
      "           'update_time': '2020-07-15T18:43:05.757480'}],\n",
      " 'output_collections': [],\n",
      " 'outputs': [{'create_time': '2020-07-15T18:43:05.533487',\n",
      "              'data_type': 'galaxy.datatypes.data.Data',\n",
      "              'deleted': False,\n",
      "              'file_ext': 'auto',\n",
      "              'file_size': 0,\n",
      "              'genome_build': '?',\n",
      "              'hda_ldda': 'hda',\n",
      "              'hid': 1,\n",
      "              'history_content_type': 'dataset',\n",
      "              'history_id': '94d2b47995e95c97',\n",
      "              'id': 'bbd44e69cb8906b53a29337dbd05f035',\n",
      "              'metadata_dbkey': '?',\n",
      "              'misc_blurb': None,\n",
      "              'misc_info': None,\n",
      "              'model_class': 'HistoryDatasetAssociation',\n",
      "              'name': '1.txt',\n",
      "              'output_name': 'output0',\n",
      "              'peek': None,\n",
      "              'purged': False,\n",
      "              'state': 'queued',\n",
      "              'tags': [],\n",
      "              'update_time': '2020-07-15T18:43:05.610264',\n",
      "              'uuid': 'a40d592c-a826-45d8-9952-42517d67e202',\n",
      "              'validated_state': 'unknown',\n",
      "              'validated_state_message': None,\n",
      "              'visible': True}],\n",
      " 'produces_entry_points': False}\n"
     ]
    }
   ],
   "source": [
    "ret = gi.tools.upload_file(\"test-data/1.txt\", new_hist['id'])\n",
    "pprint(ret)"
   ]
  },
  {
   "cell_type": "markdown",
   "metadata": {},
   "source": [
    "4) Find the new uploaded dataset, either from the dict returned by `tools.upload_file()` or from the history contents."
   ]
  },
  {
   "cell_type": "code",
   "execution_count": 4,
   "metadata": {},
   "outputs": [
    {
     "name": "stdout",
     "output_type": "stream",
     "text": [
      "{'create_time': '2020-07-15T18:43:05.533487',\n",
      " 'data_type': 'galaxy.datatypes.data.Data',\n",
      " 'deleted': False,\n",
      " 'file_ext': 'auto',\n",
      " 'file_size': 0,\n",
      " 'genome_build': '?',\n",
      " 'hda_ldda': 'hda',\n",
      " 'hid': 1,\n",
      " 'history_content_type': 'dataset',\n",
      " 'history_id': '94d2b47995e95c97',\n",
      " 'id': 'bbd44e69cb8906b53a29337dbd05f035',\n",
      " 'metadata_dbkey': '?',\n",
      " 'misc_blurb': None,\n",
      " 'misc_info': None,\n",
      " 'model_class': 'HistoryDatasetAssociation',\n",
      " 'name': '1.txt',\n",
      " 'output_name': 'output0',\n",
      " 'peek': None,\n",
      " 'purged': False,\n",
      " 'state': 'queued',\n",
      " 'tags': [],\n",
      " 'update_time': '2020-07-15T18:43:05.610264',\n",
      " 'uuid': 'a40d592c-a826-45d8-9952-42517d67e202',\n",
      " 'validated_state': 'unknown',\n",
      " 'validated_state_message': None,\n",
      " 'visible': True}\n"
     ]
    }
   ],
   "source": [
    "hda = ret['outputs'][0]\n",
    "pprint(hda)"
   ]
  },
  {
   "cell_type": "markdown",
   "metadata": {},
   "source": [
    "5) **Import a workflow** from the local file \"test-data/convert_to_tab.ga\" using `workflows.import_workflow_from_local_path()` ."
   ]
  },
  {
   "cell_type": "code",
   "execution_count": 5,
   "metadata": {},
   "outputs": [
    {
     "name": "stdout",
     "output_type": "stream",
     "text": [
      "{'annotations': [],\n",
      " 'create_time': '2020-07-15T18:43:26.404524',\n",
      " 'deleted': False,\n",
      " 'id': 'c3c8787b7506de7d',\n",
      " 'latest_workflow_uuid': '814e6545-db9e-4dc0-b9c4-1c0f9ed68910',\n",
      " 'model_class': 'StoredWorkflow',\n",
      " 'name': 'Convert to tab',\n",
      " 'number_of_steps': 2,\n",
      " 'owner': 'nsoranzo',\n",
      " 'published': False,\n",
      " 'tags': [],\n",
      " 'update_time': '2020-07-15T18:43:26.404533',\n",
      " 'url': '/api/workflows/c3c8787b7506de7d'}\n"
     ]
    }
   ],
   "source": [
    "wf = gi.workflows.import_workflow_from_local_path('test-data/convert_to_tab.ga')\n",
    "pprint(wf)"
   ]
  },
  {
   "cell_type": "markdown",
   "metadata": {},
   "source": [
    "6) View the details of the imported workflow using `workflows.show_workflow()` ."
   ]
  },
  {
   "cell_type": "code",
   "execution_count": 6,
   "metadata": {},
   "outputs": [
    {
     "name": "stdout",
     "output_type": "stream",
     "text": [
      "{'annotation': None,\n",
      " 'create_time': '2020-07-15T18:43:26.404524',\n",
      " 'deleted': False,\n",
      " 'id': 'c3c8787b7506de7d',\n",
      " 'inputs': {'0': {'label': 'Input Dataset',\n",
      "                  'uuid': '671bca4e-0b76-4a6f-a0a2-70219df56576',\n",
      "                  'value': ''}},\n",
      " 'latest_workflow_uuid': '814e6545-db9e-4dc0-b9c4-1c0f9ed68910',\n",
      " 'model_class': 'StoredWorkflow',\n",
      " 'name': 'Convert to tab',\n",
      " 'owner': 'nsoranzo',\n",
      " 'published': False,\n",
      " 'steps': {'0': {'annotation': None,\n",
      "                 'id': 0,\n",
      "                 'input_steps': {},\n",
      "                 'tool_id': None,\n",
      "                 'tool_inputs': {'optional': False},\n",
      "                 'tool_version': None,\n",
      "                 'type': 'data_input'},\n",
      "           '1': {'annotation': None,\n",
      "                 'id': 1,\n",
      "                 'input_steps': {'input': {'source_step': 0,\n",
      "                                           'step_output': 'output'}},\n",
      "                 'tool_id': 'Convert characters1',\n",
      "                 'tool_inputs': {'__page__': 0,\n",
      "                                 '__rerun_remap_job_id__': None,\n",
      "                                 'condense': 'true',\n",
      "                                 'convert_from': 's',\n",
      "                                 'input': None,\n",
      "                                 'strip': 'true'},\n",
      "                 'tool_version': '1.0.0',\n",
      "                 'type': 'tool'}},\n",
      " 'tags': [],\n",
      " 'update_time': '2020-07-15T18:43:26.404533',\n",
      " 'url': '/api/workflows/c3c8787b7506de7d',\n",
      " 'version': 0}\n"
     ]
    }
   ],
   "source": [
    "wf = gi.workflows.show_workflow(wf['id'])\n",
    "pprint(wf)"
   ]
  },
  {
   "cell_type": "markdown",
   "metadata": {},
   "source": [
    "7) **Run** the imported workflow on the uploaded dataset **inside the same history** using `workflows.invoke_workflow()` ."
   ]
  },
  {
   "cell_type": "code",
   "execution_count": 7,
   "metadata": {},
   "outputs": [
    {
     "name": "stdout",
     "output_type": "stream",
     "text": [
      "{'create_time': '2020-07-15T18:43:53.542054',\n",
      " 'history_id': '94d2b47995e95c97',\n",
      " 'id': '0e86ef5a904e4ba1',\n",
      " 'model_class': 'WorkflowInvocation',\n",
      " 'state': 'new',\n",
      " 'update_time': '2020-07-15T18:43:53.542061',\n",
      " 'uuid': '21c3d058-c6cb-11ea-83bd-005056ba2773',\n",
      " 'workflow_id': '36ada108f0f4fe0e'}\n"
     ]
    }
   ],
   "source": [
    "inputs = {0: {'id': hda['id'], 'src': 'hda'}}\n",
    "ret = gi.workflows.invoke_workflow(wf['id'], inputs=inputs, history_id=new_hist['id'])\n",
    "pprint(ret)"
   ]
  },
  {
   "cell_type": "markdown",
   "metadata": {},
   "source": [
    "8) View the results on the Galaxy server with your web browser."
   ]
  }
 ],
 "metadata": {
  "kernelspec": {
   "display_name": "Python 3",
   "language": "python",
   "name": "python3"
  },
  "language_info": {
   "codemirror_mode": {
    "name": "ipython",
    "version": 3
   },
   "file_extension": ".py",
   "mimetype": "text/x-python",
   "name": "python",
   "nbconvert_exporter": "python",
   "pygments_lexer": "ipython3",
   "version": "3.7.6"
  },
  "toc": {
   "base_numbering": 1,
   "nav_menu": {},
   "number_sections": true,
   "sideBar": true,
   "skip_h1_title": false,
   "title_cell": "Table of Contents",
   "title_sidebar": "Contents",
   "toc_cell": false,
   "toc_position": {},
   "toc_section_display": true,
   "toc_window_display": false
  }
 },
 "nbformat": 4,
 "nbformat_minor": 1
}
