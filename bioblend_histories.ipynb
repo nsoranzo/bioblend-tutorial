{
 "cells": [
  {
   "cell_type": "markdown",
   "metadata": {},
   "source": [
    "Interacting with histories in BioBlend\n",
    "======================================\n",
    "\n",
    "**You need to insert the API key for your Galaxy server in the cell below**: \n",
    "1. Open the Galaxy server in another browser tab\n",
    "2. Click on \"User\" on the top menu, then \"Preferences\"\n",
    "3. Click on \"Manage API key\"\n",
    "4. Generate an API key if needed, then copy the alphanumeric string and paste it as the value of the `api_key` variable below.\n",
    "\n",
    "The user interacts with a Galaxy server through a `GalaxyInstance` object:"
   ]
  },
  {
   "cell_type": "code",
   "execution_count": 1,
   "metadata": {},
   "outputs": [],
   "source": [
    "from pprint import pprint\n",
    "\n",
    "import bioblend.galaxy\n",
    "\n",
    "server = 'https://usegalaxy.eu/'\n",
    "api_key = ''\n",
    "gi = bioblend.galaxy.GalaxyInstance(url=server, key=api_key)"
   ]
  },
  {
   "cell_type": "markdown",
   "metadata": {},
   "source": [
    "The `GalaxyInstance` object gives you access to the various controllers, i.e. the resources you are dealing with, like `histories`, `tools` and `workflows`.\n",
    "Therefore, method calls will have the format `gi.controller.method()`. For example, the call to retrieve all histories owned by the current user is:"
   ]
  },
  {
   "cell_type": "code",
   "execution_count": 2,
   "metadata": {},
   "outputs": [
    {
     "name": "stdout",
     "output_type": "stream",
     "text": [
      "[{'annotation': None,\n",
      "  'deleted': False,\n",
      "  'id': 'effec70bec8ba12c',\n",
      "  'model_class': 'History',\n",
      "  'name': 'New history',\n",
      "  'published': False,\n",
      "  'purged': False,\n",
      "  'tags': [],\n",
      "  'url': '/api/histories/effec70bec8ba12c'},\n",
      " {'annotation': None,\n",
      "  'deleted': False,\n",
      "  'id': '49e446c3d6585583',\n",
      "  'model_class': 'History',\n",
      "  'name': 'Unnamed history',\n",
      "  'published': False,\n",
      "  'purged': False,\n",
      "  'tags': [],\n",
      "  'url': '/api/histories/49e446c3d6585583'}]\n"
     ]
    }
   ],
   "source": [
    "pprint(gi.histories.get_histories())"
   ]
  },
  {
   "cell_type": "markdown",
   "metadata": {},
   "source": [
    "As you can see, methods in BioBlend do not return JSON strings, but **deserialize** them into Python data structures. In particular, `get_` methods return a list of dictionaries.\n",
    "\n",
    "Each dictionary gives basic info about a resource, e.g. for a history you have:\n",
    "- `id`: the unique **identifier** of the history, needed for all specific requests about this resource\n",
    "- `name`: the name of this history as given by the user\n",
    "- `deleted`: whether the history has been deleted\n",
    "- `url`: the relative URL to get all info about this resource.\n",
    "\n",
    "**New resources** are created with `create_` methods, e.g. the call to create a new history is:"
   ]
  },
  {
   "cell_type": "code",
   "execution_count": 15,
   "metadata": {},
   "outputs": [
    {
     "name": "stdout",
     "output_type": "stream",
     "text": [
      "{'annotation': None,\n",
      " 'contents_url': '/api/histories/81dbf1b348986271/contents',\n",
      " 'create_time': '2020-07-15T23:58:51.454856',\n",
      " 'deleted': False,\n",
      " 'empty': True,\n",
      " 'genome_build': None,\n",
      " 'id': '81dbf1b348986271',\n",
      " 'importable': False,\n",
      " 'model_class': 'History',\n",
      " 'name': 'BioBlend test',\n",
      " 'published': False,\n",
      " 'purged': False,\n",
      " 'size': 0,\n",
      " 'slug': None,\n",
      " 'state': 'new',\n",
      " 'state_details': {'discarded': 0,\n",
      "                   'empty': 0,\n",
      "                   'error': 0,\n",
      "                   'failed_metadata': 0,\n",
      "                   'new': 0,\n",
      "                   'ok': 0,\n",
      "                   'paused': 0,\n",
      "                   'queued': 0,\n",
      "                   'running': 0,\n",
      "                   'setting_metadata': 0,\n",
      "                   'upload': 0},\n",
      " 'state_ids': {'discarded': [],\n",
      "               'empty': [],\n",
      "               'error': [],\n",
      "               'failed_metadata': [],\n",
      "               'new': [],\n",
      "               'ok': [],\n",
      "               'paused': [],\n",
      "               'queued': [],\n",
      "               'running': [],\n",
      "               'setting_metadata': [],\n",
      "               'upload': []},\n",
      " 'tags': [],\n",
      " 'update_time': '2020-07-15T23:58:51.454880',\n",
      " 'url': '/api/histories/81dbf1b348986271',\n",
      " 'user_id': '1c510fef372551ec',\n",
      " 'username_and_slug': None}\n"
     ]
    }
   ],
   "source": [
    "new_hist = gi.histories.create_history(name='BioBlend test')\n",
    "pprint(new_hist)"
   ]
  },
  {
   "cell_type": "markdown",
   "metadata": {},
   "source": [
    "As you can see, to make POST requests in BioBlend it is **not necessary to serialize data**, you just pass them explicitly as parameters. The return value is a dictionary with detailed info about the created resource.\n",
    "\n",
    "`get_` methods usually have **filtering** capabilities, e.g. it is possible to filter histories **by name**:"
   ]
  },
  {
   "cell_type": "code",
   "execution_count": 17,
   "metadata": {},
   "outputs": [
    {
     "name": "stdout",
     "output_type": "stream",
     "text": [
      "[{'annotation': None,\n",
      "  'deleted': False,\n",
      "  'id': '81dbf1b348986271',\n",
      "  'model_class': 'History',\n",
      "  'name': 'BioBlend test',\n",
      "  'published': False,\n",
      "  'purged': False,\n",
      "  'tags': [],\n",
      "  'url': '/api/histories/81dbf1b348986271'}]\n"
     ]
    }
   ],
   "source": [
    "pprint(gi.histories.get_histories(name='BioBlend test'))"
   ]
  },
  {
   "cell_type": "markdown",
   "metadata": {},
   "source": [
    "It is also possible to specify the unique **id** of the resource to retrieve, e.g. to get back the history we created before:"
   ]
  },
  {
   "cell_type": "code",
   "execution_count": 13,
   "metadata": {},
   "outputs": [
    {
     "name": "stdout",
     "output_type": "stream",
     "text": [
      "[{'annotation': None,\n",
      "  'deleted': False,\n",
      "  'id': '81dbf1b348986271',\n",
      "  'model_class': 'History',\n",
      "  'name': 'BioBlend test',\n",
      "  'published': False,\n",
      "  'purged': False,\n",
      "  'tags': [],\n",
      "  'url': '/api/histories/81dbf1b348986271'}]\n"
     ]
    }
   ],
   "source": [
    "hist_id = new_hist['id']\n",
    "pprint(gi.histories.get_histories(history_id=hist_id))"
   ]
  },
  {
   "cell_type": "markdown",
   "metadata": {},
   "source": [
    "Please note that independently of which parameters are passed to the `get_` method, it always returns a list."
   ]
  },
  {
   "cell_type": "markdown",
   "metadata": {},
   "source": [
    "To **upload** files to the new history, run the special upload tool by calling the `upload_file` method of the `tools` controller:"
   ]
  },
  {
   "cell_type": "code",
   "execution_count": 22,
   "metadata": {},
   "outputs": [
    {
     "name": "stdout",
     "output_type": "stream",
     "text": [
      "{'implicit_collections': [],\n",
      " 'jobs': [{'create_time': '2020-07-16T00:03:08.777733',\n",
      "           'exit_code': None,\n",
      "           'galaxy_version': '20.05',\n",
      "           'history_id': '81dbf1b348986271',\n",
      "           'id': 'bbd44e69cb8906b548906faa192062c9',\n",
      "           'model_class': 'Job',\n",
      "           'state': 'new',\n",
      "           'tool_id': 'upload1',\n",
      "           'update_time': '2020-07-16T00:03:08.945527'}],\n",
      " 'output_collections': [],\n",
      " 'outputs': [{'create_time': '2020-07-16T00:03:08.679131',\n",
      "              'data_type': 'galaxy.datatypes.data.Data',\n",
      "              'deleted': False,\n",
      "              'file_ext': 'auto',\n",
      "              'file_size': 0,\n",
      "              'genome_build': '?',\n",
      "              'hda_ldda': 'hda',\n",
      "              'hid': 1,\n",
      "              'history_content_type': 'dataset',\n",
      "              'history_id': '81dbf1b348986271',\n",
      "              'id': 'bbd44e69cb8906b5bdf8ca821a4e31dc',\n",
      "              'metadata_dbkey': '?',\n",
      "              'misc_blurb': None,\n",
      "              'misc_info': None,\n",
      "              'model_class': 'HistoryDatasetAssociation',\n",
      "              'name': '1.txt',\n",
      "              'output_name': 'output0',\n",
      "              'peek': None,\n",
      "              'purged': False,\n",
      "              'state': 'queued',\n",
      "              'tags': [],\n",
      "              'update_time': '2020-07-16T00:03:08.750043',\n",
      "              'uuid': '58d10db2-b23d-488a-a6d6-f06a24a9a3fa',\n",
      "              'validated_state': 'unknown',\n",
      "              'validated_state_message': None,\n",
      "              'visible': True}],\n",
      " 'produces_entry_points': False}\n"
     ]
    }
   ],
   "source": [
    "pprint(gi.tools.upload_file('test-data/1.txt', hist_id))"
   ]
  },
  {
   "cell_type": "markdown",
   "metadata": {},
   "source": [
    "If you are interested in more **details** about a given resource, you can use the corresponding `show_` method. For example, to the get more info for the history we have just populated:"
   ]
  },
  {
   "cell_type": "code",
   "execution_count": 18,
   "metadata": {},
   "outputs": [
    {
     "name": "stdout",
     "output_type": "stream",
     "text": [
      "{'annotation': None,\n",
      " 'contents_url': '/api/histories/81dbf1b348986271/contents',\n",
      " 'create_time': '2020-07-15T23:58:51.454856',\n",
      " 'deleted': False,\n",
      " 'empty': False,\n",
      " 'genome_build': None,\n",
      " 'id': '81dbf1b348986271',\n",
      " 'importable': False,\n",
      " 'model_class': 'History',\n",
      " 'name': 'BioBlend test',\n",
      " 'published': False,\n",
      " 'purged': False,\n",
      " 'size': 0,\n",
      " 'slug': None,\n",
      " 'state': 'queued',\n",
      " 'state_details': {'discarded': 0,\n",
      "                   'empty': 0,\n",
      "                   'error': 0,\n",
      "                   'failed_metadata': 0,\n",
      "                   'new': 0,\n",
      "                   'ok': 0,\n",
      "                   'paused': 0,\n",
      "                   'queued': 1,\n",
      "                   'running': 0,\n",
      "                   'setting_metadata': 0,\n",
      "                   'upload': 0},\n",
      " 'state_ids': {'discarded': [],\n",
      "               'empty': [],\n",
      "               'error': [],\n",
      "               'failed_metadata': [],\n",
      "               'new': [],\n",
      "               'ok': [],\n",
      "               'paused': [],\n",
      "               'queued': ['bbd44e69cb8906b5bdf8ca821a4e31dc'],\n",
      "               'running': [],\n",
      "               'setting_metadata': [],\n",
      "               'upload': []},\n",
      " 'tags': [],\n",
      " 'update_time': '2020-07-16T00:03:08.750248',\n",
      " 'url': '/api/histories/81dbf1b348986271',\n",
      " 'user_id': '1c510fef372551ec',\n",
      " 'username_and_slug': None}\n"
     ]
    }
   ],
   "source": [
    "pprint(gi.histories.show_history(history_id=hist_id))"
   ]
  },
  {
   "cell_type": "markdown",
   "metadata": {},
   "source": [
    "As you can see, there are much more entries in the returned dictionary, e.g.:\n",
    "- `create_time`\n",
    "- `size`: total disk space used by the history\n",
    "- `state_ids`: ids of history datasets for each possible state.\n",
    "\n",
    "To get the list of **datasets contained** in a history, simply add `contents=True` to the previous call."
   ]
  },
  {
   "cell_type": "code",
   "execution_count": 20,
   "metadata": {},
   "outputs": [
    {
     "name": "stdout",
     "output_type": "stream",
     "text": [
      "[{'create_time': '2020-07-16T00:03:08.679131',\n",
      "  'dataset_id': 'bbd44e69cb8906b5bd38c5a17c7062a1',\n",
      "  'deleted': False,\n",
      "  'extension': 'auto',\n",
      "  'hid': 1,\n",
      "  'history_content_type': 'dataset',\n",
      "  'history_id': '81dbf1b348986271',\n",
      "  'id': 'bbd44e69cb8906b5bdf8ca821a4e31dc',\n",
      "  'name': '1.txt',\n",
      "  'purged': False,\n",
      "  'state': 'queued',\n",
      "  'tags': [],\n",
      "  'type': 'file',\n",
      "  'type_id': 'dataset-bbd44e69cb8906b5bdf8ca821a4e31dc',\n",
      "  'update_time': '2020-07-16T00:03:08.750043',\n",
      "  'url': '/api/histories/81dbf1b348986271/contents/bbd44e69cb8906b5bdf8ca821a4e31dc',\n",
      "  'visible': True}]\n"
     ]
    }
   ],
   "source": [
    "hdas = gi.histories.show_history(history_id=hist_id, contents=True)\n",
    "pprint(hdas)"
   ]
  },
  {
   "cell_type": "markdown",
   "metadata": {},
   "source": [
    "The dictionaries returned when showing the history content give basic info about each dataset, e.g.: `id`, `name`, `deleted`, `state`, `url`...\n",
    "\n",
    "To get the details about a specific dataset, you can use the `datasets` controller:"
   ]
  },
  {
   "cell_type": "code",
   "execution_count": 25,
   "metadata": {},
   "outputs": [
    {
     "name": "stdout",
     "output_type": "stream",
     "text": [
      "bbd44e69cb8906b5bdf8ca821a4e31dc\n",
      "{'accessible': True,\n",
      " 'annotation': None,\n",
      " 'api_type': 'file',\n",
      " 'create_time': '2020-07-16T00:03:08.679131',\n",
      " 'created_from_basename': None,\n",
      " 'creating_job': 'bbd44e69cb8906b548906faa192062c9',\n",
      " 'data_type': 'galaxy.datatypes.data.Data',\n",
      " 'dataset_id': 'bbd44e69cb8906b5bd38c5a17c7062a1',\n",
      " 'deleted': False,\n",
      " 'display_apps': [],\n",
      " 'display_types': [],\n",
      " 'download_url': '/api/histories/81dbf1b348986271/contents/bbd44e69cb8906b5bdf8ca821a4e31dc/display',\n",
      " 'extension': 'auto',\n",
      " 'file_ext': 'auto',\n",
      " 'file_size': 0,\n",
      " 'genome_build': '?',\n",
      " 'hda_ldda': 'hda',\n",
      " 'hid': 1,\n",
      " 'history_content_type': 'dataset',\n",
      " 'history_id': '81dbf1b348986271',\n",
      " 'id': 'bbd44e69cb8906b5bdf8ca821a4e31dc',\n",
      " 'meta_files': [],\n",
      " 'metadata_dbkey': '?',\n",
      " 'misc_blurb': None,\n",
      " 'misc_info': None,\n",
      " 'model_class': 'HistoryDatasetAssociation',\n",
      " 'name': '1.txt',\n",
      " 'peek': None,\n",
      " 'purged': False,\n",
      " 'rerunnable': False,\n",
      " 'resubmitted': False,\n",
      " 'state': 'queued',\n",
      " 'tags': [],\n",
      " 'type': 'file',\n",
      " 'type_id': 'dataset-bbd44e69cb8906b5bdf8ca821a4e31dc',\n",
      " 'update_time': '2020-07-16T00:03:08.750043',\n",
      " 'url': '/api/histories/81dbf1b348986271/contents/bbd44e69cb8906b5bdf8ca821a4e31dc',\n",
      " 'uuid': '58d10db2-b23d-488a-a6d6-f06a24a9a3fa',\n",
      " 'validated_state': 'unknown',\n",
      " 'validated_state_message': None,\n",
      " 'visible': True,\n",
      " 'visualizations': [{'description': 'Manually edit text',\n",
      "                     'embeddable': False,\n",
      "                     'entry_point': {'attr': {},\n",
      "                                     'file': 'editor.mako',\n",
      "                                     'type': 'mako'},\n",
      "                     'groups': None,\n",
      "                     'href': '/plugins/visualizations/editor/show',\n",
      "                     'html': 'Editor',\n",
      "                     'logo': None,\n",
      "                     'name': 'editor',\n",
      "                     'settings': None,\n",
      "                     'specs': None,\n",
      "                     'target': 'galaxy_main',\n",
      "                     'title': None}]}\n"
     ]
    }
   ],
   "source": [
    "hda0_id = hdas[0]['id']\n",
    "print(hda0_id)\n",
    "pprint(gi.datasets.show_dataset(hda0_id))"
   ]
  },
  {
   "cell_type": "markdown",
   "metadata": {},
   "source": [
    "Some of the interesting additional dictionary entries are:\n",
    "- `create_time`\n",
    "- `creating job`: id of the job which created this dataset\n",
    "- `download_url`: URL to download the dataset\n",
    "- `file_ext`: the Galaxy data type of this dataset\n",
    "- `file_size`\n",
    "- `genome_build`: the genome build (dbkey) associated to this dataset.\n",
    "\n",
    "To **update** a resource, use the `update_` method, e.g. to change the name of the new history:"
   ]
  },
  {
   "cell_type": "code",
   "execution_count": 26,
   "metadata": {},
   "outputs": [
    {
     "name": "stdout",
     "output_type": "stream",
     "text": [
      "{'annotation': None,\n",
      " 'contents_url': '/api/histories/81dbf1b348986271/contents',\n",
      " 'create_time': '2020-07-15T23:58:51.454856',\n",
      " 'deleted': False,\n",
      " 'empty': False,\n",
      " 'genome_build': None,\n",
      " 'id': '81dbf1b348986271',\n",
      " 'importable': False,\n",
      " 'model_class': 'History',\n",
      " 'name': 'Updated history',\n",
      " 'published': False,\n",
      " 'purged': False,\n",
      " 'size': 0,\n",
      " 'slug': None,\n",
      " 'state': 'queued',\n",
      " 'state_details': {'discarded': 0,\n",
      "                   'empty': 0,\n",
      "                   'error': 0,\n",
      "                   'failed_metadata': 0,\n",
      "                   'new': 0,\n",
      "                   'ok': 0,\n",
      "                   'paused': 0,\n",
      "                   'queued': 1,\n",
      "                   'running': 0,\n",
      "                   'setting_metadata': 0,\n",
      "                   'upload': 0},\n",
      " 'state_ids': {'discarded': [],\n",
      "               'empty': [],\n",
      "               'error': [],\n",
      "               'failed_metadata': [],\n",
      "               'new': [],\n",
      "               'ok': [],\n",
      "               'paused': [],\n",
      "               'queued': ['bbd44e69cb8906b5bdf8ca821a4e31dc'],\n",
      "               'running': [],\n",
      "               'setting_metadata': [],\n",
      "               'upload': []},\n",
      " 'tags': [],\n",
      " 'update_time': '2020-07-16T00:06:08.453226',\n",
      " 'url': '/api/histories/81dbf1b348986271',\n",
      " 'user_id': '1c510fef372551ec',\n",
      " 'username_and_slug': None}\n"
     ]
    }
   ],
   "source": [
    "pprint(gi.histories.update_history(new_hist['id'], name='Updated history'))"
   ]
  },
  {
   "cell_type": "markdown",
   "metadata": {},
   "source": [
    "The return value of `update_` methods is usually a dictionary with detailed info about the updated resource.\n",
    "\n",
    "Finally to **delete** a resource, use the `delete_` method, e.g.:"
   ]
  },
  {
   "cell_type": "code",
   "execution_count": 27,
   "metadata": {},
   "outputs": [
    {
     "name": "stdout",
     "output_type": "stream",
     "text": [
      "{'annotation': None,\n",
      " 'contents_url': '/api/histories/81dbf1b348986271/contents',\n",
      " 'create_time': '2020-07-15T23:58:51.454856',\n",
      " 'deleted': True,\n",
      " 'empty': False,\n",
      " 'genome_build': None,\n",
      " 'id': '81dbf1b348986271',\n",
      " 'importable': False,\n",
      " 'model_class': 'History',\n",
      " 'name': 'Updated history',\n",
      " 'published': False,\n",
      " 'purged': False,\n",
      " 'size': 0,\n",
      " 'slug': None,\n",
      " 'state': 'queued',\n",
      " 'state_details': {'discarded': 0,\n",
      "                   'empty': 0,\n",
      "                   'error': 0,\n",
      "                   'failed_metadata': 0,\n",
      "                   'new': 0,\n",
      "                   'ok': 0,\n",
      "                   'paused': 0,\n",
      "                   'queued': 1,\n",
      "                   'running': 0,\n",
      "                   'setting_metadata': 0,\n",
      "                   'upload': 0},\n",
      " 'state_ids': {'discarded': [],\n",
      "               'empty': [],\n",
      "               'error': [],\n",
      "               'failed_metadata': [],\n",
      "               'new': [],\n",
      "               'ok': [],\n",
      "               'paused': [],\n",
      "               'queued': ['bbd44e69cb8906b5bdf8ca821a4e31dc'],\n",
      "               'running': [],\n",
      "               'setting_metadata': [],\n",
      "               'upload': []},\n",
      " 'tags': [],\n",
      " 'update_time': '2020-07-16T00:07:32.588911',\n",
      " 'url': '/api/histories/81dbf1b348986271',\n",
      " 'user_id': '1c510fef372551ec',\n",
      " 'username_and_slug': None}\n"
     ]
    }
   ],
   "source": [
    "pprint(gi.histories.delete_history(new_hist['id']))"
   ]
  }
 ],
 "metadata": {
  "kernelspec": {
   "display_name": "Python 3",
   "language": "python",
   "name": "python3"
  },
  "language_info": {
   "codemirror_mode": {
    "name": "ipython",
    "version": 3
   },
   "file_extension": ".py",
   "mimetype": "text/x-python",
   "name": "python",
   "nbconvert_exporter": "python",
   "pygments_lexer": "ipython3",
   "version": "3.6.9"
  }
 },
 "nbformat": 4,
 "nbformat_minor": 1
}
